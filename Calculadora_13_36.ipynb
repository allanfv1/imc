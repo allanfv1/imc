{
  "nbformat": 4,
  "nbformat_minor": 0,
  "metadata": {
    "colab": {
      "provenance": [],
      "authorship_tag": "ABX9TyOv4VKE9yl8kC0Ma3j7wA5S",
      "include_colab_link": true
    },
    "kernelspec": {
      "name": "python3",
      "display_name": "Python 3"
    },
    "language_info": {
      "name": "python"
    }
  },
  "cells": [
    {
      "cell_type": "markdown",
      "metadata": {
        "id": "view-in-github",
        "colab_type": "text"
      },
      "source": [
        "<a href=\"https://colab.research.google.com/github/allanfv1/imc/blob/main/Calculadora_13_36.ipynb\" target=\"_parent\"><img src=\"https://colab.research.google.com/assets/colab-badge.svg\" alt=\"Open In Colab\"/></a>"
      ]
    },
    {
      "cell_type": "markdown",
      "source": [
        "##Calculadora 13/36\n",
        "v1.0"
      ],
      "metadata": {
        "id": "Rp9s9csMc54o"
      }
    },
    {
      "cell_type": "code",
      "execution_count": null,
      "metadata": {
        "colab": {
          "base_uri": "https://localhost:8080/"
        },
        "id": "cDdV9SUKczib",
        "outputId": "40188e96-ce79-4eec-f10f-7189113f3179"
      },
      "outputs": [
        {
          "output_type": "stream",
          "name": "stdout",
          "text": [
            "Você trabalhou hoje? (sim/não): Sim\n",
            "Qual dia deseja calcular? (1-31): 5\n",
            "Qual mês deseja calcular? (1-12): 4\n",
            "Qual ano deseja calcular? (ex: 2025): 2025\n",
            "O dia 5/4/2025 (Sábado) é um dia ímpar.\n",
            "No dia 5/4/2025, você terá: Trabalho.\n",
            "Bom trabalho!\n"
          ]
        }
      ],
      "source": [
        "import datetime\n",
        "\n",
        "def verificar_dia_trabalho():\n",
        "    hoje = datetime.date.today()\n",
        "    dia_do_mes = hoje.day\n",
        "\n",
        "    while True:\n",
        "        resposta = input(\"Você trabalhou hoje? (sim/não): \").strip().lower()\n",
        "        if resposta in [\"sim\", \"não\"]:\n",
        "            trabalhou_hoje = resposta == \"sim\"\n",
        "            break\n",
        "        print(\"Resposta inválida. Digite 'sim' ou 'não'.\")\n",
        "\n",
        "    while True:\n",
        "        try:\n",
        "            dia_calculado = int(input(\"Qual dia deseja calcular? (1-31): \").strip())\n",
        "            if 1 <= dia_calculado <= 31:\n",
        "                break\n",
        "            print(\"Por favor, insira um número entre 1 e 31.\")\n",
        "        except ValueError:\n",
        "            print(\"Entrada inválida. Digite apenas números.\")\n",
        "\n",
        "    while True:\n",
        "        try:\n",
        "            mes_calculado = int(input(\"Qual mês deseja calcular? (1-12): \").strip())\n",
        "            if 1 <= mes_calculado <= 12:\n",
        "                break\n",
        "            print(\"Por favor, insira um número entre 1 e 12.\")\n",
        "        except ValueError:\n",
        "            print(\"Entrada inválida. Digite apenas números.\")\n",
        "\n",
        "    while True:\n",
        "        try:\n",
        "            ano_calculado = int(input(\"Qual ano deseja calcular? (ex: 2025): \").strip())\n",
        "            if ano_calculado >= 1:\n",
        "                break\n",
        "            print(\"Por favor, insira um ano válido.\")\n",
        "        except ValueError:\n",
        "            print(\"Entrada inválida. Digite apenas números.\")\n",
        "\n",
        "    par_ou_impar = \"par\" if dia_calculado % 2 == 0 else \"ímpar\"\n",
        "\n",
        "    # Ajuste na lógica para alternar corretamente trabalho e folga\n",
        "    diferenca_dias = (dia_calculado - dia_do_mes) % 2\n",
        "    trabalha_no_dia = (trabalhou_hoje and diferenca_dias == 0) or (not trabalhou_hoje and diferenca_dias == 1)\n",
        "\n",
        "    status_trabalho = \"Trabalho\" if trabalha_no_dia else \"Folga\"\n",
        "\n",
        "    # Determinar o dia da semana em português\n",
        "    dias_da_semana = {\n",
        "        \"Monday\": \"Segunda-feira\",\n",
        "        \"Tuesday\": \"Terça-feira\",\n",
        "        \"Wednesday\": \"Quarta-feira\",\n",
        "        \"Thursday\": \"Quinta-feira\",\n",
        "        \"Friday\": \"Sexta-feira\",\n",
        "        \"Saturday\": \"Sábado\",\n",
        "        \"Sunday\": \"Domingo\"\n",
        "    }\n",
        "\n",
        "    data_calculada = datetime.date(ano_calculado, mes_calculado, dia_calculado)\n",
        "    dia_semana = data_calculada.strftime(\"%A\")\n",
        "    dia_semana_portugues = dias_da_semana[dia_semana]\n",
        "\n",
        "    print(f\"O dia {dia_calculado}/{mes_calculado}/{ano_calculado} ({dia_semana_portugues}) é um dia {par_ou_impar}.\")\n",
        "    print(f\"No dia {dia_calculado}/{mes_calculado}/{ano_calculado}, você terá: {status_trabalho}.\")\n",
        "\n",
        "    if trabalha_no_dia:\n",
        "        print(\"Bom trabalho!\")\n",
        "    else:\n",
        "        print(\"Boa folga!\")\n",
        "\n",
        "if __name__ == \"__main__\":\n",
        "    verificar_dia_trabalho()\n",
        "\n"
      ]
    },
    {
      "cell_type": "code",
      "source": [
        "%%writefile calculadora.py\n"
      ],
      "metadata": {
        "colab": {
          "base_uri": "https://localhost:8080/"
        },
        "id": "3biTCGUmgcAl",
        "outputId": "f07430e6-9b79-4e90-c6dc-0cb23e6eb8c6"
      },
      "execution_count": null,
      "outputs": [
        {
          "output_type": "stream",
          "name": "stdout",
          "text": [
            "Writing calculadora.py\n"
          ]
        }
      ]
    }
  ]
}